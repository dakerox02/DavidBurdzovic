{
 "cells": [
  {
   "cell_type": "code",
   "execution_count": 4,
   "metadata": {},
   "outputs": [
    {
     "name": "stdout",
     "output_type": "stream",
     "text": [
      "Ulazni podaci: [1 0 1 0 1 1 0 0 1 1 0 1]\n",
      "Kodirani podaci: [1 0 1 0 1 1 0 0 1 1 0 1 0 0 0 1 1 1 1 0 0 0 0 1]\n",
      "Oštećeni podaci: [1 0 1 0 1 0 0 0 0 1 0 0 0 0 0 1 1 1 1 0 0 0 0 1]\n",
      "Dekodirani podaci: [1 0 1 0 1 1 0 0 1 1 0 1]\n",
      "Ispravljeni podaci: [1 0 1 0 1 1 0 0 1 1 0 1 0 0 0 1 1 1 1 0 0 0 0 1]\n"
     ]
    }
   ],
   "source": [
    "import numpy as np\n",
    "from itertools import combinations\n",
    "\n",
    "I12 = np.eye(12, dtype=int)                     #kreiramo identitetsku matricu 12x12#\n",
    "P = np.array([\n",
    "        [1,1,1,0,1,1,1,0,0,0,1,0],\n",
    "        [1,0,1,1,0,1,1,1,0,0,0,1],\n",
    "        [1,1,0,1,1,0,1,1,1,0,0,0],\n",
    "        [1,0,1,0,1,1,0,1,1,1,0,0],\n",
    "        [1,0,0,1,0,1,1,0,1,1,1,0],\n",
    "        [1,0,0,0,1,0,1,1,0,1,1,1],\n",
    "        [1,1,0,0,0,1,0,1,1,0,1,1],\n",
    "        [1,1,1,0,0,0,1,0,1,1,0,1],\n",
    "        [1,1,1,1,0,0,0,1,0,1,1,0],\n",
    "        [1,0,1,1,1,0,0,0,1,0,1,1],\n",
    "        [1,1,0,1,1,1,0,0,0,1,0,1],\n",
    "        [0,1,1,1,1,1,1,1,1,1,1,1]\n",
    "    ], dtype=int)                               #kreiramo matricu P#\n",
    "G = np.hstack((I12, P))                         #funkcija koja kreira generatorsku matricu G tako što na identitetsku matricu horizontalno doda matricu P#\n",
    "\n",
    "def encode_golay(data, G):                      #funkcija za kodiranje sekvence data Golay kodom#\n",
    "    return np.dot(data, G) % 2                  #matrično se množi vektor data dimenzija (1,12) sa matricom G dimenzija (12,24) i dobija se kodirani vektor dimenzija (1,24),\n",
    "                                                #tako što se na poziciji gdje je rezultat matričnog množenja neparan broj postavlja 1 a ako je paran postavlja 0#\n",
    "def decode_golay(received, G):                  #funkcija za dekodiranje sekvence koja je primljena#\n",
    "    n = G.shape[1]                              #broj kolona matrice G#\n",
    "    k = G.shape[0]                              #broj redova matrice G#\n",
    "    H = np.hstack((P.T, np.eye(12, dtype=int)))         #kreiramo matricu H (parity-check matricu) na osnovu koje zaključujemo da li postoji greška kod primljene sekvence i gdje se ona dogodila#\n",
    "    syndrome = np.dot(received, H.T) % 2                #koristimo matricu H da dobijemo sindrom na osnovu primljene sekvence#\n",
    "\n",
    "    if not np.any(syndrome):                            #ukoliko sindrom ima sve 0, onda ne postoji greška pa vraćamao primljenu sekvencu#\n",
    "        return received[:k], received\n",
    "    corrected = received.copy()                         #kopiramo primljenu sekvencu u corrected#\n",
    "    for num_errors in range(1, 4):                      #broj grešaka koje se mogu ispraviti može biti 1,2 i 3#\n",
    "        for error_positions in combinations(range(n), num_errors):   #provjerava sve moguće kombinacije grešaka, prvo ako imamo 1 grešku,onda 2, pa 3#\n",
    "            error_vector = np.zeros(n, dtype=int)       #vektor grešaka se postavlja na 0 i dužine je kao i svaki red matrice G tj. 24#\n",
    "            for pos in error_positions:                 \n",
    "                error_vector[pos] = 1                   #postavljamo greške na odgovarajuće pozicije tj. postavljamo vrijednost 1 tamo gdje su se dogodile greške#\n",
    "            if np.array_equal(syndrome, np.dot(error_vector, H.T) % 2):  #računa se sindrom za trenutnu kombinaciju grešaka i ako je on jednak prethodno izračunatom sindromu to znači da su greške u vektoru grešaka te koje su se pojavile u primljenoj sekvenci# \n",
    "                corrected = (corrected + error_vector) % 2      #ovo predstavlja xor operaciju gdje na mjestima gdje su se dogodile greške mijenjamo bit sa 0 na 1, odnosno sa 1 na 0 i tako ispravljamo grešku#\n",
    "                return corrected[:k], corrected                 #vraća se ispravljena sekvenca#\n",
    "\n",
    "    raise ValueError(\"Greška nije mogla biti ispravljena!\")     #ako imamo više od 3 greške one ne mogu biti ispravljene#\n",
    "\n",
    "\n",
    "data = np.array([1, 0, 1, 0, 1, 1, 0, 0, 1, 1, 0, 1])           #sekvenca koja se šalje#\n",
    "print(\"Ulazni podaci:\", data)\n",
    "encoded = encode_golay(data, G)                                 #kodiramo ovu sekvencu#\n",
    "print(\"Kodirani podaci:\", encoded)\n",
    "corrupted = encoded.copy()                                      \n",
    "corrupted[5] ^= 1                                               #mijenjamo bitove na pozicijama 5,8 i 11 odnosno simuliramo da su se dogodile 3 greške#\n",
    "corrupted[8] ^= 1                                               \n",
    "corrupted[11] ^= 1\n",
    "print(\"Oštećeni podaci:\", corrupted)                            #sekvenca sa greškama#\n",
    "decoded, corrected = decode_golay(corrupted, G)                 #ispravljamo greške#\n",
    "print(f\"Dekodirani podaci: {decoded}\")                          #dekodirana sekvenca od 12 bita koju smo poslali#\n",
    "print(f\"Ispravljeni podaci: {corrected}\")                       #kompletna sekvenca od 24 bita#"
   ]
  }
 ],
 "metadata": {
  "kernelspec": {
   "display_name": "Python 3",
   "language": "python",
   "name": "python3"
  },
  "language_info": {
   "codemirror_mode": {
    "name": "ipython",
    "version": 3
   },
   "file_extension": ".py",
   "mimetype": "text/x-python",
   "name": "python",
   "nbconvert_exporter": "python",
   "pygments_lexer": "ipython3",
   "version": "3.11.9"
  }
 },
 "nbformat": 4,
 "nbformat_minor": 2
}
